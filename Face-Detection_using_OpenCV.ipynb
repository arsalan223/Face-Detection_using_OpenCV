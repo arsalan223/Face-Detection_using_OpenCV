{
 "cells": [
  {
   "cell_type": "code",
   "execution_count": 18,
   "metadata": {},
   "outputs": [],
   "source": [
    "import cv2"
   ]
  },
  {
   "cell_type": "code",
   "execution_count": 19,
   "metadata": {},
   "outputs": [],
   "source": [
    "#loading target image to img\n",
    "img = cv2.imread('image.jpg')\n",
    "\n",
    "#converting image to grayscale image\n",
    "gray_img = cv2.cvtColor(img, cv2.COLOR_BGR2GRAY)"
   ]
  },
  {
   "cell_type": "code",
   "execution_count": 20,
   "metadata": {},
   "outputs": [
    {
     "data": {
      "text/plain": [
       "array([[108,  38,  84,  84],\n",
       "       [205,  35,  74,  74],\n",
       "       [  9,  37,  84,  84]], dtype=int32)"
      ]
     },
     "execution_count": 20,
     "metadata": {},
     "output_type": "execute_result"
    }
   ],
   "source": [
    "#faces_cascade contains the face features (which are saved in .xml file)\n",
    "faces_cascade = cv2.CascadeClassifier('haarcascade_frontalface_default.xml')\n",
    "\n",
    "faces = faces_cascade.detectMultiScale(gray_img, scaleFactor = 1.05, minNeighbors = 5)\n",
    "\n",
    "faces"
   ]
  },
  {
   "cell_type": "code",
   "execution_count": 21,
   "metadata": {},
   "outputs": [],
   "source": [
    "#generating boxes on detected faces (array in 'faces'), x, y coordinates (starting from top-left as (0,0)), w as width & h as height of the face.\n",
    "for x,y,w,h in faces:\n",
    "    result = cv2.rectangle(img, (x, y), (x+w, y+h), (0,255,0), 2)\n",
    "    \n",
    "#showing the output result\n",
    "cv2.imshow('Output', result)\n",
    "cv2.waitKey(0)\n",
    "cv2.destroyAllWindows()"
   ]
  }
 ],
 "metadata": {
  "kernelspec": {
   "display_name": "Python 3",
   "language": "python",
   "name": "python3"
  },
  "language_info": {
   "codemirror_mode": {
    "name": "ipython",
    "version": 3
   },
   "file_extension": ".py",
   "mimetype": "text/x-python",
   "name": "python",
   "nbconvert_exporter": "python",
   "pygments_lexer": "ipython3",
   "version": "3.8.1"
  }
 },
 "nbformat": 4,
 "nbformat_minor": 4
}
